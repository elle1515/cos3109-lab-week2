{
  "nbformat": 4,
  "nbformat_minor": 0,
  "metadata": {
    "colab": {
      "provenance": [],
      "authorship_tag": "ABX9TyOpsVowb/LMnA63yKB8tDsi",
      "include_colab_link": true
    },
    "kernelspec": {
      "name": "python3",
      "display_name": "Python 3"
    },
    "language_info": {
      "name": "python"
    }
  },
  "cells": [
    {
      "cell_type": "markdown",
      "metadata": {
        "id": "view-in-github",
        "colab_type": "text"
      },
      "source": [
        "<a href=\"https://colab.research.google.com/github/elle1515/cos3109-lab-week2/blob/main/Lab_week1.ipynb\" target=\"_parent\"><img src=\"https://colab.research.google.com/assets/colab-badge.svg\" alt=\"Open In Colab\"/></a>"
      ]
    },
    {
      "cell_type": "markdown",
      "source": [
        "# 1. Hello world"
      ],
      "metadata": {
        "id": "17GghQU9j3yi"
      }
    },
    {
      "cell_type": "code",
      "source": [
        "# Never mind this statment , for compatibility reasons from __future__ import absolute_import , division , print_function\n",
        "# unicode_literals\n",
        "\n",
        "print(\"Hello world\")"
      ],
      "metadata": {
        "colab": {
          "base_uri": "https://localhost:8080/"
        },
        "id": "gxkjrSO-kIkX",
        "outputId": "c7edc2fe-20f3-444c-afc7-e00169852cf1"
      },
      "execution_count": null,
      "outputs": [
        {
          "output_type": "stream",
          "name": "stdout",
          "text": [
            "Hello world\n"
          ]
        }
      ]
    },
    {
      "cell_type": "markdown",
      "source": [
        "# 2. Function , Conditionals , and Iteration"
      ],
      "metadata": {
        "id": "ew1Gg-YymTia"
      }
    },
    {
      "cell_type": "code",
      "source": [
        "def HelloWorldXY(x,y):\n",
        "  if(x < 10):\n",
        "    print(\"Hello World , x was < 10\")\n",
        "  elif(x < 20):\n",
        "    print(\"Hello World , x was >= 10 but < 20\")\n",
        "  else:\n",
        "    print(\"Hello World , x was >= 20\")\n",
        "  return x+y\n",
        "\n",
        "\n",
        "for i in range( 8 , 25 , 5): # i=8,13,18,23 (start,stop,step)\n",
        "  print(\"--- Now running with i: {}\".format(i))\n",
        "  r = HelloWorldXY(i,i)\n",
        "  print(\"Result from HelloWorld: {}\".format(r))"
      ],
      "metadata": {
        "colab": {
          "base_uri": "https://localhost:8080/"
        },
        "id": "sQU1D7ZzmlQp",
        "outputId": "e52428da-9d20-46af-ca0b-9d74fac965d2"
      },
      "execution_count": null,
      "outputs": [
        {
          "output_type": "stream",
          "name": "stdout",
          "text": [
            "--- Now running with i: 8\n",
            "Hello World , x was < 10\n",
            "Result from HelloWorld: 16\n",
            "--- Now running with i: 13\n",
            "Hello World , x was >= 10 but < 20\n",
            "Result from HelloWorld: 26\n",
            "--- Now running with i: 18\n",
            "Hello World , x was >= 10 but < 20\n",
            "Result from HelloWorld: 36\n",
            "--- Now running with i: 23\n",
            "Hello World , x was >= 20\n",
            "Result from HelloWorld: 46\n"
          ]
        }
      ]
    },
    {
      "cell_type": "code",
      "source": [
        "print(HelloWorldXY(1,2))"
      ],
      "metadata": {
        "colab": {
          "base_uri": "https://localhost:8080/"
        },
        "id": "KEhrWgYvr9A4",
        "outputId": "492b7906-dae9-453c-e426-0ef83fc79b30"
      },
      "execution_count": null,
      "outputs": [
        {
          "output_type": "stream",
          "name": "stdout",
          "text": [
            "Hello World , x was < 10\n",
            "3\n"
          ]
        }
      ]
    },
    {
      "cell_type": "markdown",
      "source": [
        "# 3. Various kinds of loops starting at 0 to 2"
      ],
      "metadata": {
        "id": "e--Y1IJMtUHe"
      }
    },
    {
      "cell_type": "code",
      "source": [
        "print(\"Iterate over the items, 'range(2)' is like a list [0,1].\")\n",
        "for i in range(2):\n",
        "  print(i)\n",
        "\n",
        "print(\"Iterate over an actual list.\")\n",
        "for i in [0,1]:\n",
        "  print(i)\n",
        "\n",
        "print(\"While works\")\n",
        "i = 0\n",
        "while i < 2:\n",
        "  print(i)\n",
        "  i = i+1"
      ],
      "metadata": {
        "colab": {
          "base_uri": "https://localhost:8080/"
        },
        "id": "vABWPlURuFYh",
        "outputId": "db692291-0233-4c8d-8e34-a80b7360d0eb"
      },
      "execution_count": null,
      "outputs": [
        {
          "output_type": "stream",
          "name": "stdout",
          "text": [
            "Iterate over the items, 'range(2)' is like a list [0,1].\n",
            "0\n",
            "1\n",
            "Iterate over an actual list.\n",
            "0\n",
            "1\n",
            "While works\n",
            "0\n",
            "1\n"
          ]
        }
      ]
    },
    {
      "cell_type": "markdown",
      "source": [
        "# 4. Numpy and lists"
      ],
      "metadata": {
        "id": "em0QcGpuv8FE"
      }
    },
    {
      "cell_type": "markdown",
      "source": [
        "<u>Numpy</u> as np is the fundamental package for scientific computing with Python.\n",
        "\n",
        "<u>List(Array)</u> are data structure in Python that is a mutable, or changeable, orderes sequence of elements. Each element or value that is inside of a list is calles an item. Just as strings are defined as characters between quotes, list are defined by having values between square brackets [ ]."
      ],
      "metadata": {
        "id": "ZhREnKSQXtNP"
      }
    },
    {
      "cell_type": "code",
      "source": [
        "sea_creatures = ['shark','cuttlefish','squid','mantis shrimp','anemone']"
      ],
      "metadata": {
        "id": "02W-fniP0Oec"
      },
      "execution_count": null,
      "outputs": []
    },
    {
      "cell_type": "code",
      "source": [
        "sea_creatures[0] = 'shark'\n",
        "sea_creatures[2] = 'squid'\n",
        "sea_creatures[4] = 'anemone'"
      ],
      "metadata": {
        "id": "EEFYifbT6xV5"
      },
      "execution_count": null,
      "outputs": []
    },
    {
      "cell_type": "code",
      "source": [
        "import numpy as np #Make numpy avaliable using np.\n",
        "\n",
        "# Create a numpy array, add append an element\n",
        "a = np.array([\"Hello\",\"World\"])\n",
        "a = np.append(a,\"!\")\n",
        "print(\"Current array: {}\".format(a))\n",
        "print(\"Printing each element\")\n",
        "for i in a:\n",
        "  print(i)\n",
        "\n",
        "print(\"\\nPrinting each element and their index\")\n",
        "for i,e in enumerate(a):\n",
        "  print(\"Index: {}, was: {}\".format(i,e))"
      ],
      "metadata": {
        "colab": {
          "base_uri": "https://localhost:8080/"
        },
        "id": "49cA-Euk7FHq",
        "outputId": "ad16cba6-3bc6-43bc-9fd7-bfe1a1c7e0e7"
      },
      "execution_count": null,
      "outputs": [
        {
          "output_type": "stream",
          "name": "stdout",
          "text": [
            "Current array: ['Hello' 'World' '!']\n",
            "Printing each element\n",
            "Hello\n",
            "World\n",
            "!\n",
            "\n",
            "Printing each element and their index\n",
            "Index: 0, was: Hello\n",
            "Index: 1, was: World\n",
            "Index: 2, was: !\n"
          ]
        }
      ]
    },
    {
      "cell_type": "code",
      "source": [
        "print(\"\\nShowing some basic math on array\")\n",
        "b = np.array([0,1,4,3,2])\n",
        "print(\"Max: {}\".format(np.max(b)))\n",
        "print(\"Average: {}\".format(np.average(b)))\n",
        "print(\"Max index: {}\".format(np.argmax(b)))"
      ],
      "metadata": {
        "colab": {
          "base_uri": "https://localhost:8080/"
        },
        "id": "pM-rPmr5-eRA",
        "outputId": "de7f837b-4fb4-4d65-d766-e34a37780907"
      },
      "execution_count": null,
      "outputs": [
        {
          "output_type": "stream",
          "name": "stdout",
          "text": [
            "\n",
            "Showing some basic math on array\n",
            "Max: 4\n",
            "Average: 2.0\n",
            "Max index: 2\n"
          ]
        }
      ]
    },
    {
      "cell_type": "code",
      "source": [
        "print(\"\\nYou can print the type of anything\")\n",
        "print(\"Type of b: {}, type of b[0]: {}\".format(type(b),type(b[0])))"
      ],
      "metadata": {
        "colab": {
          "base_uri": "https://localhost:8080/"
        },
        "id": "g4ljg4aVCnIR",
        "outputId": "3a6a3f4b-0ed6-4432-a094-5568481884c5"
      },
      "execution_count": null,
      "outputs": [
        {
          "output_type": "stream",
          "name": "stdout",
          "text": [
            "\n",
            "You can print the type of anything\n",
            "Type of b: <class 'numpy.ndarray'>, type of b[0]: <class 'numpy.int64'>\n"
          ]
        }
      ]
    },
    {
      "cell_type": "code",
      "source": [
        "print(\"\\nUse numpy to create a [3,3] dimension array with random number\")\n",
        "c = np.random.rand(3,3)\n",
        "print(c)"
      ],
      "metadata": {
        "colab": {
          "base_uri": "https://localhost:8080/"
        },
        "id": "F6xQwnxwDKg5",
        "outputId": "821e70b0-f26b-4bb4-e5b9-677714f9c51f"
      },
      "execution_count": null,
      "outputs": [
        {
          "output_type": "stream",
          "name": "stdout",
          "text": [
            "\n",
            "Use numpy to create a [3,3] dimension array with random number\n",
            "[[0.29065739 0.66055967 0.07367363]\n",
            " [0.79820669 0.59539877 0.42586634]\n",
            " [0.32562742 0.26523151 0.7295742 ]]\n"
          ]
        }
      ]
    },
    {
      "cell_type": "code",
      "source": [
        "print(\"\\nYou can print the dimension of array\")\n",
        "print(\"Shape of a: {}\".format(a.shape))\n",
        "print(\"Shape of b: {}\".format(b.shape))\n",
        "print(\"Shape of c: {}\".format(c.shape))"
      ],
      "metadata": {
        "colab": {
          "base_uri": "https://localhost:8080/"
        },
        "id": "lvnVgUMxDyr7",
        "outputId": "5860e6c5-2bca-41eb-b6e5-33470e6c2c6f"
      },
      "execution_count": null,
      "outputs": [
        {
          "output_type": "stream",
          "name": "stdout",
          "text": [
            "\n",
            "You can print the dimension of array\n",
            "Shape of a: (3,)\n",
            "Shape of b: (5,)\n",
            "Shape of c: (3, 3)\n"
          ]
        }
      ]
    },
    {
      "cell_type": "markdown",
      "source": [
        "# 5. Colab Specifics: to run commands at the VM's terminal, prefix the line with an exclamation point(!)"
      ],
      "metadata": {
        "id": "E0gRGZYnGHBO"
      }
    },
    {
      "cell_type": "code",
      "source": [
        "print(\"\\nDoing $ls on filesystem\")\n",
        "!ls -l\n",
        "!pwd"
      ],
      "metadata": {
        "colab": {
          "base_uri": "https://localhost:8080/"
        },
        "id": "G8jtM93cGgle",
        "outputId": "33a84bea-de51-4f30-dadd-c9c240d0b827"
      },
      "execution_count": 5,
      "outputs": [
        {
          "output_type": "stream",
          "name": "stdout",
          "text": [
            "\n",
            "Doing $ls on filesystem\n",
            "total 0\n",
            "/root\n"
          ]
        }
      ]
    },
    {
      "cell_type": "code",
      "source": [
        "print(\"Install numpy\") #Just for test, numpy is actually preinstalled in all colav instancs\n",
        "\n",
        "!pip install numpy"
      ],
      "metadata": {
        "colab": {
          "base_uri": "https://localhost:8080/"
        },
        "id": "hW6XYmWVUYJk",
        "outputId": "0b9f0fef-3e4e-47e2-c86b-15bfab59012c"
      },
      "execution_count": null,
      "outputs": [
        {
          "output_type": "stream",
          "name": "stdout",
          "text": [
            "Install numpy\n",
            "Requirement already satisfied: numpy in /usr/local/lib/python3.10/dist-packages (1.25.2)\n"
          ]
        }
      ]
    },
    {
      "cell_type": "markdown",
      "source": [
        "# Exercise"
      ],
      "metadata": {
        "id": "5bLXR_dsV9fz"
      }
    },
    {
      "cell_type": "markdown",
      "source": [
        "1. <u>**Colab**</u>: create a code cell underneath this text cell and add code to:\n",
        "- list the path of the current directory(pwd)\n",
        "- Go to / (cd) and list the content(ls-l)"
      ],
      "metadata": {
        "id": "yR5m5b5OWOsz"
      }
    },
    {
      "cell_type": "code",
      "source": [
        "!pwd\n",
        "%cd\n",
        "!ls -l"
      ],
      "metadata": {
        "colab": {
          "base_uri": "https://localhost:8080/"
        },
        "id": "y-F_agebW_2v",
        "outputId": "ca6e83e8-7d01-482f-8b02-5d322a66048f"
      },
      "execution_count": 4,
      "outputs": [
        {
          "output_type": "stream",
          "name": "stdout",
          "text": [
            "/content/sample_data\n",
            "/root\n",
            "total 0\n"
          ]
        }
      ]
    },
    {
      "cell_type": "markdown",
      "source": [
        "2. **<u>Python lists without Numpy</u>**: Print the second item in the fruits list:"
      ],
      "metadata": {
        "id": "mT9RyLbUXjRI"
      }
    },
    {
      "cell_type": "code",
      "source": [
        "fruits = [\"apple\",\"banana\",\"cherry\"]\n",
        "print(fruits[1])"
      ],
      "metadata": {
        "colab": {
          "base_uri": "https://localhost:8080/"
        },
        "id": "qKedC5MHZJWO",
        "outputId": "96ea5bc0-e2aa-464f-8118-08918109ca11"
      },
      "execution_count": null,
      "outputs": [
        {
          "output_type": "stream",
          "name": "stdout",
          "text": [
            "banana\n"
          ]
        }
      ]
    },
    {
      "cell_type": "markdown",
      "source": [
        "3. Change the value from \"apple\" to \"kiwi\" , in the fruits list:"
      ],
      "metadata": {
        "id": "uty0CpToaDEx"
      }
    },
    {
      "cell_type": "code",
      "source": [
        "fruits[0] = \"kiwi\"\n",
        "print(fruits)"
      ],
      "metadata": {
        "colab": {
          "base_uri": "https://localhost:8080/"
        },
        "id": "f7duUNTeaP5Z",
        "outputId": "fddae088-2951-4990-ff34-b054b3326824"
      },
      "execution_count": null,
      "outputs": [
        {
          "output_type": "stream",
          "name": "stdout",
          "text": [
            "['kiwi', 'banana', 'cherry']\n"
          ]
        }
      ]
    },
    {
      "cell_type": "markdown",
      "source": [
        "4. Use the append method to add \"orange\" to the fruits list:"
      ],
      "metadata": {
        "id": "EXILy7bsadN-"
      }
    },
    {
      "cell_type": "code",
      "source": [
        "fruits.append(\"orange\")\n",
        "print(fruits)"
      ],
      "metadata": {
        "colab": {
          "base_uri": "https://localhost:8080/"
        },
        "id": "Sbo-daBeaoLf",
        "outputId": "3ff4f9bb-6001-4f72-f0d6-957bc358abe5"
      },
      "execution_count": null,
      "outputs": [
        {
          "output_type": "stream",
          "name": "stdout",
          "text": [
            "['kiwi', 'banana', 'cherry', 'orange']\n"
          ]
        }
      ]
    },
    {
      "cell_type": "markdown",
      "source": [
        "5. Use the insert method to add \"lemon\" as the second iten in the fruits list:"
      ],
      "metadata": {
        "id": "ObJZzGlDa7cA"
      }
    },
    {
      "cell_type": "code",
      "source": [
        "fruits.insert(1,\"lemon\")\n",
        "print(fruits)"
      ],
      "metadata": {
        "colab": {
          "base_uri": "https://localhost:8080/"
        },
        "id": "wdShu5XzbI7j",
        "outputId": "60478b52-d310-4b9e-abf9-b4c85b80b4c8"
      },
      "execution_count": null,
      "outputs": [
        {
          "output_type": "stream",
          "name": "stdout",
          "text": [
            "['kiwi', 'lemon', 'banana', 'cherry', 'orange']\n"
          ]
        }
      ]
    },
    {
      "cell_type": "markdown",
      "source": [
        "6. Use the remove method to delete \"banana\" from the fruits list:"
      ],
      "metadata": {
        "id": "g561modMbiP9"
      }
    },
    {
      "cell_type": "code",
      "source": [
        "fruits.remove(\"banana\")\n",
        "print(fruits)"
      ],
      "metadata": {
        "colab": {
          "base_uri": "https://localhost:8080/"
        },
        "id": "5BF0h-eUbsXL",
        "outputId": "7dc497a4-fdd6-4680-9738-11ea2bcf16d3"
      },
      "execution_count": null,
      "outputs": [
        {
          "output_type": "stream",
          "name": "stdout",
          "text": [
            "['kiwi', 'lemon', 'cherry', 'orange']\n"
          ]
        }
      ]
    },
    {
      "cell_type": "markdown",
      "source": [
        "7. **<u>Python If...Else:</u>**: Print \"Hello World\" if a is greater than b:"
      ],
      "metadata": {
        "id": "KkksIe7ib7R5"
      }
    },
    {
      "cell_type": "code",
      "source": [
        "a = 50\n",
        "b = 10\n",
        "c = 20\n",
        "d = 20\n",
        "\n",
        "if a > b:\n",
        "  print(\"Hello World\")"
      ],
      "metadata": {
        "colab": {
          "base_uri": "https://localhost:8080/"
        },
        "id": "F8Jubu7JcNqG",
        "outputId": "2b2d5be1-e90b-45c3-b0a0-42921581d3dd"
      },
      "execution_count": null,
      "outputs": [
        {
          "output_type": "stream",
          "name": "stdout",
          "text": [
            "Hello World\n"
          ]
        }
      ]
    },
    {
      "cell_type": "markdown",
      "source": [
        "8. Print \"Hello World\" if a is not equal to b:"
      ],
      "metadata": {
        "id": "rUV0CbDMiL93"
      }
    },
    {
      "cell_type": "code",
      "source": [
        "if a != b:\n",
        "  print(\"Hello World\")"
      ],
      "metadata": {
        "colab": {
          "base_uri": "https://localhost:8080/"
        },
        "id": "AyJztfbeiX9R",
        "outputId": "89e38a1d-67b9-48df-bd02-6f37bad9a63f"
      },
      "execution_count": null,
      "outputs": [
        {
          "output_type": "stream",
          "name": "stdout",
          "text": [
            "Hello World\n"
          ]
        }
      ]
    },
    {
      "cell_type": "markdown",
      "source": [
        "9. Print \"Yes\" if a equal to b , otherwise print \"No\":"
      ],
      "metadata": {
        "id": "Qp2sBJf8ieGv"
      }
    },
    {
      "cell_type": "code",
      "source": [
        "if a == b:\n",
        "  print(\"Yes\")\n",
        "else:\n",
        "  print(\"No\")"
      ],
      "metadata": {
        "colab": {
          "base_uri": "https://localhost:8080/"
        },
        "id": "j091CDthix5u",
        "outputId": "02e297ae-c915-4307-ebc1-08a99489ef82"
      },
      "execution_count": null,
      "outputs": [
        {
          "output_type": "stream",
          "name": "stdout",
          "text": [
            "No\n"
          ]
        }
      ]
    },
    {
      "cell_type": "markdown",
      "source": [
        "10. Print \"1\" if a is equal to b, print \"2\" if a is greater than b, otherwise print \"3\":"
      ],
      "metadata": {
        "id": "9Ak_hf2ui9Pu"
      }
    },
    {
      "cell_type": "code",
      "source": [
        "if a == b:\n",
        "  print(\"1\")\n",
        "elif a > b:\n",
        "  print(\"2\")\n",
        "else:\n",
        "  print(\"3\")"
      ],
      "metadata": {
        "colab": {
          "base_uri": "https://localhost:8080/"
        },
        "id": "SkDtzVxdjQxf",
        "outputId": "8189f539-aff4-43f8-c202-8470389b2b96"
      },
      "execution_count": null,
      "outputs": [
        {
          "output_type": "stream",
          "name": "stdout",
          "text": [
            "2\n"
          ]
        }
      ]
    },
    {
      "cell_type": "markdown",
      "source": [
        "11. print \"Hello\" if a is equal to b, or c is equal to d:"
      ],
      "metadata": {
        "id": "jR6FGjHBjldo"
      }
    },
    {
      "cell_type": "code",
      "source": [
        "if a == b or c ==d:\n",
        "  print(\"Hello\")"
      ],
      "metadata": {
        "colab": {
          "base_uri": "https://localhost:8080/"
        },
        "id": "V1fx1RHRj2rT",
        "outputId": "413c3b29-073d-4cb8-9122-96e2857c2c0b"
      },
      "execution_count": null,
      "outputs": [
        {
          "output_type": "stream",
          "name": "stdout",
          "text": [
            "Hello\n"
          ]
        }
      ]
    },
    {
      "cell_type": "markdown",
      "source": [
        "12. Print \"Hello\" if either a is equal to b, or c is equal to d:"
      ],
      "metadata": {
        "id": "44yxNPLTkBz_"
      }
    },
    {
      "cell_type": "code",
      "source": [
        "if a == b or c == d:\n",
        "  print(\"Hello\")"
      ],
      "metadata": {
        "colab": {
          "base_uri": "https://localhost:8080/"
        },
        "id": "1nGkSsxvkY7n",
        "outputId": "9d05b08e-a349-4b75-dd09-ecfd07e86f0c"
      },
      "execution_count": null,
      "outputs": [
        {
          "output_type": "stream",
          "name": "stdout",
          "text": [
            "Hello\n"
          ]
        }
      ]
    },
    {
      "cell_type": "markdown",
      "source": [
        "13. **<u>Python Loops:</u>**: Print i as long as i is less than 6:"
      ],
      "metadata": {
        "id": "_JDq-YzFkuAd"
      }
    },
    {
      "cell_type": "code",
      "source": [
        "for i in range(6):\n",
        "  print(i)"
      ],
      "metadata": {
        "colab": {
          "base_uri": "https://localhost:8080/"
        },
        "id": "D5LXYvHLlOp1",
        "outputId": "846226c4-26ef-47cf-c6b8-3e4baa20452c"
      },
      "execution_count": null,
      "outputs": [
        {
          "output_type": "stream",
          "name": "stdout",
          "text": [
            "0\n",
            "1\n",
            "2\n",
            "3\n",
            "4\n",
            "5\n"
          ]
        }
      ]
    },
    {
      "cell_type": "markdown",
      "source": [
        "14. From # stop the loop if i is 3"
      ],
      "metadata": {
        "id": "4HAz_EkWlj3a"
      }
    },
    {
      "cell_type": "code",
      "source": [
        "for i in range(6):\n",
        "  if i == 3:\n",
        "    break\n",
        "  print(i)"
      ],
      "metadata": {
        "colab": {
          "base_uri": "https://localhost:8080/"
        },
        "id": "lT3qHInplxRh",
        "outputId": "eb02b3ef-6e62-4d8a-b136-368bcf3f77aa"
      },
      "execution_count": null,
      "outputs": [
        {
          "output_type": "stream",
          "name": "stdout",
          "text": [
            "0\n",
            "1\n",
            "2\n"
          ]
        }
      ]
    }
  ]
}